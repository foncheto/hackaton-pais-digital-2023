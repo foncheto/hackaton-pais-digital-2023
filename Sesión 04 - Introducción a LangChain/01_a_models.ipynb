{
 "cells": [
  {
   "cell_type": "markdown",
   "metadata": {},
   "source": [
    "# Capítulo I: Modelos"
   ]
  },
  {
   "cell_type": "markdown",
   "metadata": {},
   "source": [
    "### Modelo text-davinci-003"
   ]
  },
  {
   "cell_type": "markdown",
   "metadata": {},
   "source": [
    "Puede realizar cualquier tarea de lenguaje con mejor calidad, salidas más largas y un seguimiento de instrucciones más consistente que los modelos curie, babbage o ada. También admite algunas características adicionales, como la inserción de texto."
   ]
  },
  {
   "cell_type": "code",
   "execution_count": 1,
   "metadata": {},
   "outputs": [],
   "source": [
    "#Carga de librerías\n",
    "from langchain.llms import OpenAI\n",
    "from dotenv import load_dotenv\n",
    "import re\n",
    "import string"
   ]
  },
  {
   "cell_type": "code",
   "execution_count": 2,
   "metadata": {},
   "outputs": [
    {
     "data": {
      "text/plain": [
       "True"
      ]
     },
     "execution_count": 2,
     "metadata": {},
     "output_type": "execute_result"
    }
   ],
   "source": [
    "#Carga de keys a utilizar las API's de los modelos\n",
    "load_dotenv()"
   ]
  },
  {
   "cell_type": "code",
   "execution_count": 4,
   "metadata": {},
   "outputs": [],
   "source": [
    "llm = OpenAI(temperature=.8, model_name=\"text-davinci-003\") #\"gpt-3.5-turbo\" es un modelo de chat\n",
    "txt = \"Bievenidos participantes de la hackatón. Esta es la sesión 4. ¿Cómo están?\"\n"
   ]
  },
  {
   "cell_type": "code",
   "execution_count": 5,
   "metadata": {},
   "outputs": [
    {
     "name": "stdout",
     "output_type": "stream",
     "text": [
      "\n",
      "\n",
      "Estamos muy emocionados de participar en la hackatón. Estamos listos para aprender y compartir conocimiento. ¡Gracias por ofrecer esta oportunidad!\n"
     ]
    }
   ],
   "source": [
    "#Respuesta\n",
    "print(llm(txt))"
   ]
  },
  {
   "cell_type": "code",
   "execution_count": null,
   "metadata": {},
   "outputs": [],
   "source": [
    "#print(llm)  <--- entrega los parámetros de configuración\n",
    "#print(llm.get_num_tokens(\"cómo estás?\")) <--- para contar tokens de un prompt"
   ]
  },
  {
   "cell_type": "code",
   "execution_count": 6,
   "metadata": {},
   "outputs": [],
   "source": [
    "#Que tal si ahora solicitamos más de una respuesta\n",
    "llm = OpenAI(temperature=.8, n=4)\n",
    "llm_answers = llm.generate([\"Nómbrame un país sudamericano\"])"
   ]
  },
  {
   "cell_type": "code",
   "execution_count": 7,
   "metadata": {},
   "outputs": [
    {
     "name": "stdout",
     "output_type": "stream",
     "text": [
      "Brasil|Ecuador|Argentina|Perú\n"
     ]
    }
   ],
   "source": [
    "#Respuesta depurada\n",
    "print('|'.join([re.sub(r'[\\s'+string.punctuation+']', '', x.text) for x in llm_answers.generations[0]]))"
   ]
  },
  {
   "cell_type": "code",
   "execution_count": 8,
   "metadata": {},
   "outputs": [
    {
     "name": "stdout",
     "output_type": "stream",
     "text": [
      "{'token_usage': {'prompt_tokens': 13, 'total_tokens': 34, 'completion_tokens': 21}, 'model_name': 'text-davinci-003'}\n"
     ]
    }
   ],
   "source": [
    "#Stats de la solicitud\n",
    "print(llm_answers.llm_output)"
   ]
  },
  {
   "cell_type": "markdown",
   "metadata": {},
   "source": [
    "### Modelo Conversacional de OpenAI"
   ]
  },
  {
   "cell_type": "markdown",
   "metadata": {},
   "source": [
    "A diferencia del modelo anterior, los modelos conversacionales se caracterizan por tipos de mensajes: AIMessage, HumanMessage, SystemMessage. Es con ellos que haremos los siguientes ejemplos"
   ]
  },
  {
   "cell_type": "code",
   "execution_count": 15,
   "metadata": {},
   "outputs": [
    {
     "data": {
      "text/plain": [
       "True"
      ]
     },
     "execution_count": 15,
     "metadata": {},
     "output_type": "execute_result"
    }
   ],
   "source": [
    "from dotenv import load_dotenv\n",
    "from langchain.chat_models import ChatOpenAI\n",
    "from langchain.schema import (\n",
    "    AIMessage,\n",
    "    HumanMessage,\n",
    "    SystemMessage\n",
    ")\n",
    "load_dotenv()"
   ]
  },
  {
   "cell_type": "code",
   "execution_count": 9,
   "metadata": {},
   "outputs": [],
   "source": [
    "chat = ChatOpenAI(model=\"gpt-3.5-turbo\",temperature=0)\n",
    "messages = [\n",
    "    HumanMessage(content=\"¿Cuáles son los procedimientos que se deben realizar frente a un tsunami\")\n",
    "]"
   ]
  },
  {
   "cell_type": "code",
   "execution_count": 10,
   "metadata": {},
   "outputs": [],
   "source": [
    "response = chat(messages)"
   ]
  },
  {
   "cell_type": "code",
   "execution_count": 14,
   "metadata": {},
   "outputs": [
    {
     "name": "stdout",
     "output_type": "stream",
     "text": [
      "Frente a un tsunami, se deben seguir los siguientes procedimientos:\n",
      "\n",
      "1. Estar atento a las alertas y avisos de tsunami emitidos por las autoridades competentes, como los servicios de protección civil o los organismos meteorológicos.\n",
      "\n",
      "2. Evacuar de inmediato las zonas costeras y dirigirse a lugares elevados o a zonas designadas como refugios seguros. Es importante seguir las rutas de evacuación establecidas y no regresar hasta que las autoridades lo indiquen.\n",
      "\n",
      "3. Si no es posible evacuar a tiempo, buscar refugio en edificios altos y sólidos, preferiblemente en pisos superiores. Evitar las zonas bajas y las áreas cercanas a ríos o estuarios.\n",
      "\n",
      "4. Mantenerse informado a través de la radio, la televisión u otros medios de comunicación para recibir actualizaciones sobre la situación y las instrucciones de las autoridades.\n",
      "\n",
      "5. No acercarse a la costa para observar el tsunami. Los tsunamis pueden tener múltiples olas, algunas de las cuales pueden ser más grandes y peligrosas que otras.\n",
      "\n",
      "6. Si se encuentra en un barco en el mar, alejarse de la costa y dirigirse a aguas profundas lo más rápido posible. Los tsunamis pueden generar corrientes marinas muy fuertes cerca de la costa.\n",
      "\n",
      "7. Después de que pase el tsunami, seguir las instrucciones de las autoridades para el regreso seguro a las zonas afectadas. Estar alerta a posibles réplicas sísmicas que puedan generar nuevos tsunamis.\n",
      "\n",
      "Es importante recordar que cada país o región puede tener procedimientos específicos en caso de tsunami, por lo que es fundamental seguir las instrucciones y recomendaciones de las autoridades locales.\n"
     ]
    }
   ],
   "source": [
    "print(response.content)"
   ]
  },
  {
   "cell_type": "code",
   "execution_count": 18,
   "metadata": {},
   "outputs": [],
   "source": [
    "messages = [\n",
    "    SystemMessage(content=\"Actúa como un experto de música de los años 80. Debes ser gentil a la hora de responder, y si un usuario te pregunta sobre recomendaciones de discografía, debes sugerir a lo más los 5 días más popular del género musical que el usuario te consulta\"),\n",
    "    HumanMessage(content=\"Hola, busco música de los beatles, tienes alguna recomendación? Es para un regalo para mi padre\")\n",
    "]\n"
   ]
  },
  {
   "cell_type": "code",
   "execution_count": 17,
   "metadata": {},
   "outputs": [],
   "source": [
    "response = chat(messages)"
   ]
  },
  {
   "cell_type": "code",
   "execution_count": 19,
   "metadata": {},
   "outputs": [
    {
     "name": "stdout",
     "output_type": "stream",
     "text": [
      "¡Claro! Los Beatles son una banda icónica de los años 60. Si estás buscando un regalo para tu padre, te recomendaría los siguientes álbumes:\n",
      "\n",
      "1. \"Sgt. Pepper's Lonely Hearts Club Band\" (1967): Este álbum es considerado uno de los mejores de todos los tiempos. Incluye canciones como \"Lucy in the Sky with Diamonds\" y \"A Day in the Life\".\n",
      "\n",
      "2. \"Abbey Road\" (1969): Es el último álbum de estudio que grabaron juntos. Contiene clásicos como \"Come Together\" y \"Here Comes the Sun\".\n",
      "\n",
      "3. \"Revolver\" (1966): Este álbum marcó un cambio en el sonido de los Beatles. Canciones como \"Eleanor Rigby\" y \"Tomorrow Never Knows\" son verdaderas joyas.\n",
      "\n",
      "4. \"Rubber Soul\" (1965): Es considerado uno de los álbumes más influyentes de la banda. Incluye canciones como \"Norwegian Wood\" y \"In My Life\".\n",
      "\n",
      "5. \"The White Album\" (1968): Este álbum doble muestra la versatilidad de los Beatles. Contiene canciones como \"While My Guitar Gently Weeps\" y \"Blackbird\".\n",
      "\n",
      "Estos álbumes son solo una pequeña muestra de la increíble discografía de los Beatles. Espero que encuentres el regalo perfecto para tu padre. ¡Disfruta de la música!\n"
     ]
    }
   ],
   "source": [
    "print(response.content)"
   ]
  },
  {
   "cell_type": "code",
   "execution_count": 20,
   "metadata": {},
   "outputs": [
    {
     "data": {
      "text/plain": [
       "AIMessage(content='¡Claro! Los Beatles son una banda icónica de los años 60. Si estás buscando un regalo para tu padre, te recomendaría los siguientes álbumes:\\n\\n1. \"Sgt. Pepper\\'s Lonely Hearts Club Band\" (1967): Este álbum es considerado uno de los mejores de todos los tiempos. Incluye canciones como \"Lucy in the Sky with Diamonds\" y \"A Day in the Life\".\\n\\n2. \"Abbey Road\" (1969): Es el último álbum de estudio que grabaron juntos. Contiene clásicos como \"Come Together\" y \"Here Comes the Sun\".\\n\\n3. \"Revolver\" (1966): Este álbum marcó un cambio en el sonido de los Beatles. Canciones como \"Eleanor Rigby\" y \"Tomorrow Never Knows\" son verdaderas joyas.\\n\\n4. \"Rubber Soul\" (1965): Es considerado uno de los álbumes más influyentes de la banda. Incluye canciones como \"Norwegian Wood\" y \"In My Life\".\\n\\n5. \"The White Album\" (1968): Este álbum doble muestra la versatilidad de los Beatles. Contiene canciones como \"While My Guitar Gently Weeps\" y \"Blackbird\".\\n\\nEstos álbumes son solo una pequeña muestra de la increíble discografía de los Beatles. Espero que encuentres el regalo perfecto para tu padre. ¡Disfruta de la música!', additional_kwargs={}, example=False)"
      ]
     },
     "execution_count": 20,
     "metadata": {},
     "output_type": "execute_result"
    }
   ],
   "source": [
    "response"
   ]
  }
 ],
 "metadata": {
  "kernelspec": {
   "display_name": "Python 3",
   "language": "python",
   "name": "python3"
  },
  "language_info": {
   "codemirror_mode": {
    "name": "ipython",
    "version": 3
   },
   "file_extension": ".py",
   "mimetype": "text/x-python",
   "name": "python",
   "nbconvert_exporter": "python",
   "pygments_lexer": "ipython3",
   "version": "3.10.11"
  },
  "orig_nbformat": 4
 },
 "nbformat": 4,
 "nbformat_minor": 2
}
