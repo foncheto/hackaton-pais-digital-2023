{
 "cells": [
  {
   "cell_type": "markdown",
   "metadata": {},
   "source": [
    "# Capítulo I: Modelos"
   ]
  },
  {
   "cell_type": "markdown",
   "metadata": {},
   "source": [
    "### Modelo text-davinci-003"
   ]
  },
  {
   "cell_type": "markdown",
   "metadata": {},
   "source": [
    "Puede realizar cualquier tarea de lenguaje con mejor calidad, salidas más largas y un seguimiento de instrucciones más consistente que los modelos curie, babbage o ada. También admite algunas características adicionales, como la inserción de texto."
   ]
  },
  {
   "cell_type": "code",
   "execution_count": 1,
   "metadata": {},
   "outputs": [],
   "source": [
    "#Carga de librerías\n",
    "from langchain.llms import OpenAI\n",
    "from dotenv import load_dotenv\n",
    "import re\n",
    "import string"
   ]
  },
  {
   "cell_type": "code",
   "execution_count": 2,
   "metadata": {},
   "outputs": [
    {
     "data": {
      "text/plain": [
       "True"
      ]
     },
     "execution_count": 2,
     "metadata": {},
     "output_type": "execute_result"
    }
   ],
   "source": [
    "#Carga de keys a utilizar las API's de los modelos\n",
    "load_dotenv()"
   ]
  },
  {
   "cell_type": "code",
   "execution_count": 3,
   "metadata": {},
   "outputs": [],
   "source": [
    "llm = OpenAI(temperature=.8)\n",
    "txt = \"Bievenidos participantes de la hackatón. Esta es la sesión 4. ¿Cómo están?\"\n"
   ]
  },
  {
   "cell_type": "code",
   "execution_count": 4,
   "metadata": {},
   "outputs": [
    {
     "name": "stdout",
     "output_type": "stream",
     "text": [
      "\n",
      "\n",
      "¡Hola! Estamos listos para comenzar. Estamos emocionados por ver qué podemos crear durante la hackatón. ¡Vamos allá!\n"
     ]
    }
   ],
   "source": [
    "#Respuesta\n",
    "print(llm(txt))"
   ]
  },
  {
   "cell_type": "code",
   "execution_count": null,
   "metadata": {},
   "outputs": [],
   "source": [
    "#print(llm)  <--- entrega los parámetros de configuración\n",
    "#print(llm.get_num_tokens(\"cómo estás?\")) <--- para contar tokens de un prompt"
   ]
  },
  {
   "cell_type": "code",
   "execution_count": 5,
   "metadata": {},
   "outputs": [],
   "source": [
    "#Que tal si ahora solicitamos más de una respuesta\n",
    "llm = OpenAI(temperature=.8, n=4)\n",
    "llm_answers = llm.generate([\"Nómbrame un país sudamericano\"])"
   ]
  },
  {
   "cell_type": "code",
   "execution_count": 6,
   "metadata": {},
   "outputs": [
    {
     "name": "stdout",
     "output_type": "stream",
     "text": [
      "Brasil|Brasil|Brasil|Bolivia\n"
     ]
    }
   ],
   "source": [
    "#Respuesta depurada\n",
    "print('|'.join([re.sub(r'[\\s'+string.punctuation+']', '', x.text) for x in llm_answers.generations[0]]))"
   ]
  },
  {
   "cell_type": "code",
   "execution_count": 7,
   "metadata": {},
   "outputs": [
    {
     "name": "stdout",
     "output_type": "stream",
     "text": [
      "{'token_usage': {'completion_tokens': 23, 'total_tokens': 36, 'prompt_tokens': 13}, 'model_name': 'text-davinci-003'}\n"
     ]
    }
   ],
   "source": [
    "#Stats de la solicitud\n",
    "print(llm_answers.llm_output)"
   ]
  }
 ],
 "metadata": {
  "kernelspec": {
   "display_name": "Python 3",
   "language": "python",
   "name": "python3"
  },
  "language_info": {
   "codemirror_mode": {
    "name": "ipython",
    "version": 3
   },
   "file_extension": ".py",
   "mimetype": "text/x-python",
   "name": "python",
   "nbconvert_exporter": "python",
   "pygments_lexer": "ipython3",
   "version": "3.10.10"
  },
  "orig_nbformat": 4
 },
 "nbformat": 4,
 "nbformat_minor": 2
}
